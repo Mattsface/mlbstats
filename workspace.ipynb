{
 "cells": [
  {
   "cell_type": "code",
   "execution_count": 3,
   "metadata": {},
   "outputs": [],
   "source": [
    "import mlb\n",
    "import requests\n",
    "import pandas as pd\n",
    "from types import SimpleNamespace as ns"
   ]
  },
  {
   "cell_type": "code",
   "execution_count": 16,
   "metadata": {},
   "outputs": [],
   "source": [
    "def playoffs(mlbam):\n",
    "    gt_types = {'F':'wild_card','D':'division','L':'league_series','W':'world_series','P':'playoffs'}\n",
    "    sort_orders = {'F':1,'D':2,'L':3,'W':4}\n",
    "    with requests.session() as sesh:\n",
    "        data = []\n",
    "        for gt in ('F','D','L','W'):\n",
    "            url = f\"https://statsapi.mlb.com/api/v1/teams/{mlbam}/stats?stats=yearByYearPlayoffs&group=pitching&gameType={gt}&fields=stats,splits,stat,wins,losses,season\"\n",
    "            resp = sesh.get(url)\n",
    "            game_type = gt_types[gt]\n",
    "            years = resp.json()[\"stats\"][0][\"splits\"]\n",
    "            for y in years:\n",
    "                season = y.get(\"season\",\"\")\n",
    "                wins = y.get(\"stat\",{}).get(\"wins\",0)\n",
    "                losses = y.get(\"stat\",{}).get(\"losses\",0)\n",
    "                if wins > losses:\n",
    "                    title_winner = True\n",
    "                else:\n",
    "                    title_winner = False\n",
    "                sort_order = sort_orders[gt]\n",
    "                \n",
    "                data.append([\n",
    "                    season,gt,game_type,wins,losses,title_winner,sort_order\n",
    "                ])\n",
    "                \n",
    "\n",
    "                \n",
    "        df = pd.DataFrame(data=data,columns=['season','gt','game_type','wins','losses','title_winner','sort_order']).sort_values(by=[\"season\",\"sort_order\"],ascending=[True,True]).reset_index(drop=True)\n",
    "        return df\n",
    "\n",
    "\n"
   ]
  },
  {
   "cell_type": "code",
   "execution_count": 18,
   "metadata": {},
   "outputs": [
    {
     "data": {
      "text/html": [
       "<div>\n",
       "<style scoped>\n",
       "    .dataframe tbody tr th:only-of-type {\n",
       "        vertical-align: middle;\n",
       "    }\n",
       "\n",
       "    .dataframe tbody tr th {\n",
       "        vertical-align: top;\n",
       "    }\n",
       "\n",
       "    .dataframe thead th {\n",
       "        text-align: right;\n",
       "    }\n",
       "</style>\n",
       "<table border=\"1\" class=\"dataframe\">\n",
       "  <thead>\n",
       "    <tr style=\"text-align: right;\">\n",
       "      <th></th>\n",
       "      <th>season</th>\n",
       "      <th>gt</th>\n",
       "      <th>game_type</th>\n",
       "      <th>wins</th>\n",
       "      <th>losses</th>\n",
       "      <th>title_winner</th>\n",
       "      <th>sort_order</th>\n",
       "    </tr>\n",
       "  </thead>\n",
       "  <tbody>\n",
       "    <tr>\n",
       "      <th>7</th>\n",
       "      <td>2005</td>\n",
       "      <td>D</td>\n",
       "      <td>division</td>\n",
       "      <td>3</td>\n",
       "      <td>0</td>\n",
       "      <td>True</td>\n",
       "      <td>2</td>\n",
       "    </tr>\n",
       "    <tr>\n",
       "      <th>8</th>\n",
       "      <td>2005</td>\n",
       "      <td>L</td>\n",
       "      <td>league_series</td>\n",
       "      <td>4</td>\n",
       "      <td>1</td>\n",
       "      <td>True</td>\n",
       "      <td>3</td>\n",
       "    </tr>\n",
       "    <tr>\n",
       "      <th>9</th>\n",
       "      <td>2005</td>\n",
       "      <td>W</td>\n",
       "      <td>world_series</td>\n",
       "      <td>4</td>\n",
       "      <td>0</td>\n",
       "      <td>True</td>\n",
       "      <td>4</td>\n",
       "    </tr>\n",
       "  </tbody>\n",
       "</table>\n",
       "</div>"
      ],
      "text/plain": [
       "  season gt      game_type  wins  losses  title_winner  sort_order\n",
       "7   2005  D       division     3       0          True           2\n",
       "8   2005  L  league_series     4       1          True           3\n",
       "9   2005  W   world_series     4       0          True           4"
      ]
     },
     "execution_count": 18,
     "metadata": {},
     "output_type": "execute_result"
    }
   ],
   "source": []
  },
  {
   "cell_type": "code",
   "execution_count": null,
   "metadata": {},
   "outputs": [],
   "source": []
  }
 ],
 "metadata": {
  "interpreter": {
   "hash": "290a4e1496360bee5be2c9273f15849004c3990b55f9c717ea6d4be35dd535e9"
  },
  "kernelspec": {
   "display_name": "Python 3.10.0 ('ssvenv')",
   "language": "python",
   "name": "python3"
  },
  "language_info": {
   "codemirror_mode": {
    "name": "ipython",
    "version": 3
   },
   "file_extension": ".py",
   "mimetype": "text/x-python",
   "name": "python",
   "nbconvert_exporter": "python",
   "pygments_lexer": "ipython3",
   "version": "3.10.0"
  },
  "orig_nbformat": 4
 },
 "nbformat": 4,
 "nbformat_minor": 2
}
