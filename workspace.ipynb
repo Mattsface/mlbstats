{
 "cells": [
  {
   "cell_type": "code",
   "execution_count": 1,
   "metadata": {},
   "outputs": [],
   "source": [
    "import time\n",
    "import mlb\n",
    "import requests\n",
    "import pandas as pd\n",
    "from types import SimpleNamespace as ns\n"
   ]
  },
  {
   "cell_type": "code",
   "execution_count": 2,
   "metadata": {},
   "outputs": [
    {
     "name": "stdout",
     "output_type": "stream",
     "text": [
      "--- 0.8695831298828125 seconds ---\n"
     ]
    }
   ],
   "source": [
    "start = time.time()\n",
    "p = mlb.player(608337)\n",
    "print(f\"--- {time.time() - start} seconds ---\")"
   ]
  },
  {
   "cell_type": "code",
   "execution_count": 7,
   "metadata": {},
   "outputs": [
    {
     "data": {
      "text/plain": [
       "namespace(hitting=<mlb.classes._stats at 0x7fb63d8a33a0>,\n",
       "          pitching=<mlb.classes._stats at 0x7fb63d8a2fb0>,\n",
       "          fielding=<mlb.classes._stats at 0x7fb63d8a2ce0>)"
      ]
     },
     "execution_count": 7,
     "metadata": {},
     "output_type": "execute_result"
    }
   ],
   "source": [
    "p.stats.yby."
   ]
  },
  {
   "cell_type": "code",
   "execution_count": 2,
   "metadata": {},
   "outputs": [],
   "source": [
    "t = mlb.franchise(145)\n"
   ]
  },
  {
   "cell_type": "code",
   "execution_count": 5,
   "metadata": {},
   "outputs": [
    {
     "data": {
      "text/plain": [
       "Season                   1901\n",
       "mlbam                     145\n",
       "bbrefID                   CHW\n",
       "fullName    Chicago White Sox\n",
       "lgAbbrv                    AL\n",
       "GP                        136\n",
       "W                          83\n",
       "L                          53\n",
       "W%                       0.61\n",
       "R                         819\n",
       "RA                        631\n",
       "RunDiff                   188\n",
       "GB                        5.5\n",
       "Name: 120, dtype: object"
      ]
     },
     "execution_count": 5,
     "metadata": {},
     "output_type": "execute_result"
    }
   ],
   "source": [
    "t.standings.records.iloc[-1]"
   ]
  },
  {
   "cell_type": "code",
   "execution_count": 7,
   "metadata": {},
   "outputs": [
    {
     "name": "stdout",
     "output_type": "stream",
     "text": [
      "\n",
      "https://statsapi.mlb.com/api/v1/people?personIds=608337&hydrate=stats(type=[career,careerAdvanced,yearByYear,yearByYearAdvanced,pitchArsenal],group=[hitting,fielding,pitching],gameType=[R,P],sitCodes=[h,a]),rosterEntries,education,xrefId,draft,awards,transactions\n",
      "\n"
     ]
    }
   ],
   "source": [
    "p = mlb.Player(608337)\n",
    "with requests.session() as sesh:\n",
    "    sesh.get(\"https://www.baseball-reference.com/redirect.fcgi?player=1&mlb_ID=547989\")\n",
    "    sesh.get(\"https://www.baseball-reference.com/bullpen/Jos%C3%A9_Abreu\")"
   ]
  },
  {
   "cell_type": "code",
   "execution_count": 5,
   "metadata": {},
   "outputs": [
    {
     "ename": "KeyError",
     "evalue": "'education'",
     "output_type": "error",
     "traceback": [
      "\u001b[0;31m---------------------------------------------------------------------------\u001b[0m",
      "\u001b[0;31mKeyError\u001b[0m                                  Traceback (most recent call last)",
      "\u001b[0;32m/var/folders/zr/zg5glfgx0nnglw9432y0hl5w0000gn/T/ipykernel_8701/2297552342.py\u001b[0m in \u001b[0;36m<module>\u001b[0;34m\u001b[0m\n\u001b[0;32m----> 1\u001b[0;31m \u001b[0md\u001b[0m\u001b[0;34m[\u001b[0m\u001b[0;34m\"education\"\u001b[0m\u001b[0;34m]\u001b[0m\u001b[0;34m\u001b[0m\u001b[0;34m\u001b[0m\u001b[0m\n\u001b[0m",
      "\u001b[0;31mKeyError\u001b[0m: 'education'"
     ]
    }
   ],
   "source": []
  },
  {
   "cell_type": "code",
   "execution_count": null,
   "metadata": {},
   "outputs": [],
   "source": []
  }
 ],
 "metadata": {
  "interpreter": {
   "hash": "290a4e1496360bee5be2c9273f15849004c3990b55f9c717ea6d4be35dd535e9"
  },
  "kernelspec": {
   "display_name": "Python 3.10.0 ('ssvenv')",
   "language": "python",
   "name": "python3"
  },
  "language_info": {
   "codemirror_mode": {
    "name": "ipython",
    "version": 3
   },
   "file_extension": ".py",
   "mimetype": "text/x-python",
   "name": "python",
   "nbconvert_exporter": "python",
   "pygments_lexer": "ipython3",
   "version": "3.10.0"
  },
  "orig_nbformat": 4
 },
 "nbformat": 4,
 "nbformat_minor": 2
}
