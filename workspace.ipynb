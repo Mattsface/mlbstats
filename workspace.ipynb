{
 "cells": [
  {
   "cell_type": "code",
   "execution_count": 1,
   "metadata": {},
   "outputs": [],
   "source": [
    "import time\n",
    "import mlb\n",
    "import requests\n",
    "import pandas as pd\n",
    "from types import SimpleNamespace as ns\n"
   ]
  },
  {
   "cell_type": "code",
   "execution_count": 2,
   "metadata": {},
   "outputs": [
    {
     "name": "stdout",
     "output_type": "stream",
     "text": [
      "--- 1.0426921844482422 seconds ---\n"
     ]
    }
   ],
   "source": [
    "start = time.time()\n",
    "p = mlb.player(547989)\n",
    "print(f\"--- {time.time() - start} seconds ---\")"
   ]
  },
  {
   "cell_type": "code",
   "execution_count": 3,
   "metadata": {},
   "outputs": [
    {
     "data": {
      "text/plain": [
       "['José Abreu is a three-time American League All-Star first baseman who made his big league debut in 2014. Prior to his MLB days, he set a Cuban home run record in 2010-2011 and was named the Cuban Serie Nacional MVP.\\n',\n",
       " \"He had played five seasons in the Cuban Serie Nacional, where he was known as José Dariel Abreu through 2007-2008, hitting .295 and slugging .467. After 48 games in 2008-2009, he was batting .345/~.368/.600, earning a spot on Cuba's provisional roster for the 2009 World Baseball Classic. He did not make the final cut and finished the season with a .346/.441/.630 batting line. He led the 2008-2009 Serie Nacional with 30 times hit by pitch. He tied Yenier Bello and Alexander Guerrero for 8th in homers (19), was 8th in slugging and 4th in strikeouts (69). Abreu was 2 for 10 in the 2009 World Port Tournament, backing up Ariel Borrero at first base. In the 2009 Baseball World Cup, he hit .250/.333/.469 in his first major tournament. He was listed in the IBAF's Final Report as being one of the All-Star outfielders alongside teammate Alfredo Despaigne and Jon Weber, but other sources list Puerto Rico's Miguel Abreu, who had better statistics. He was not even used as a starter in the outfield, playing alongside Ariel Borrero at first. In the Gold Medal game, he did not appear as Borrero saw the action.\\n\",\n",
       " \"In 2009-2010, Abreu had his best year yet, hitting .399/.555/.822 with 82 runs, 30 homers, 76 RBI and 74 walks to 49 strikeouts in 89 games. He tied Leonys Martín for 6th in the Serie Nacional in runs, tied Yunior Paumier for third with 25 doubles, tied Yulieski Gourriel for second in home runs (one behind Alfredo Despaigne in a to-the-wire home run race), was third with 235 total bases (behind Despaigne and Gourriel), again led with 30 times hit by pitch, tied Enrique Esteban Díaz for 4th in walks, led with 32 intentional walks (12 more than runner-up Yosvany Peraza), was second in average (.005 behind Despaigne), led in slugging (.008 over Despaigne) and may have led in OBP. He was named the All-Star first baseman. Abreu was Cuba's starting first baseman when they won the 2010 Intercontinental Cup, their first Gold in an international tournament in three years. He hit .292/.320/.500. In the finale, he went 1 for 3 and scored the first run in the victory over the Dutch national team; he doubled off Rob Cordemans in the third and came home on a Yorbis Borroto hit. He helped Cuba finish second at the 2010 Pan American Games Qualifying Tournament. In the 2010 World University Championship, he posted the best average by going 10 for 18 with 2 walks, a double, triple, four homers, 9 runs and 12 RBI in six games as Cuba won the Gold. He was 0 for 4 in the finale, as Cuba edged Team USA. He was named the event's All-Star first baseman.\\n\",\n",
       " \"José continued to improve in 2010-2011 with one of the greatest seasons in Cuban history. He hit .453/.597/.986 with 79 runs, 93 RBI and 33 home runs in only 66 games. Despite missing 23 games due to bursitis in his shoulder, he broke Despaigne's home run record (as did Yoenis Céspedes - both hit their 33rd on the season's last day). Despaigne would reclaim the record a year later. Abreu led the league in average (.052 over Michel Enriquez), slugging (a whopping .212 over runner-up Frederich Cepeda), intentional walks (21) and homers (tied with Yoenis Céspedes), was second in RBI (6 behind Céspedes), tied for 8th in runs with Donal Duarte, was 7th in total bases (209) and 4th in times hit by pitch (21). Had he not been injured, he would have likely easily won a Triple Crown. He won Serie Nacional MVP, becoming the second MVP from Cienfuegos, following Pedro José Rodríguez, Sr. by 31 years.\\n\",\n",
       " \"He was the All-Star first baseman in the 2011 Baseball World Cup, hitting .442/.478/.721 with 3 home runs and 10 runs in 11 games. He beat out Donald Lutz, Matt Clark, Willie Vasquez and Baseball World Cup MVP Curt Smith among others for that honor. Entering the final day of competition, he was second to Rusney Castillo in slugging, third in average (behind Castillo and Dwight Britton) and tied for second in home runs (with Tommy Mendonca, Lutz, Clark, Fernando Seguignol and Smith, behind Vasquez). In the Gold Medal game, though, he was 0 for 3 with a hit-by-pitch against Rob Cordemans and David Bergman in an upset 2-1 loss to the Dutch national team. Abreu remained dominant in the 2011 Pan American Games, hitting .524/.561/1.048 with 3 home runs, 5 runs and 9 RBI in five games, with great performances almost every time out. He hit a 2-run homer in a 5-4 win over Venezuela, was a triple shy of the cycle in a 9-5 romp over eventual champion Canada, went 3 for 4 with a walk in a 12-10 loss to Team USA and went deep off Mexico's Walter Silva as Cuba beat the hosts in the Bronze Medal game.\\n\",\n",
       " 'Abreu hit .394/.542/.837 with 75 walks, 22 HBP, 35 home runs, 71 runs and 99 RBI in 87 games for Cienfuegos in 2011-2012. He tied the Cuban record by homering in six straight games. When he hit home run #35, he tied Despaigne for a new Cuban record, but Despaigne hit his 36th before the season ended to again rob Abreu of that record. He did finish among the league leaders in numerous departments: runs scored (7th, between Ramón Lunar and Alexander Malleta), home runs (2nd, one behind Despaigne, 13 ahead of #3 Gourriel), total bases (236, 2nd, 3 behind Despaigne), average (1st, .024 ahead of Danel Castro), slugging (1st, a whopping 142 points ahead of Despaigne), RBI (2nd, 6 behind Despaigne), hit-by-pitch (1st, one ahead of Pavel Quesada), walks (5th, between Ramón Tamayo and Enrique Esteban Díaz), OBP (1st) and intentional walks (33, 1st). He was named the All-Star first baseman while Despaigne won MVP despite a lower OPS.\\n',\n",
       " 'Abreu produced at a .382/.535/.735 clip with 13 home runs, 37 runs, 36 RBI and 37 walks in 42 games in 2012-2013 (Cuba drastically shortened their regular season that year). He tied Irait Chirino for second in runs (two behind David Castillo), led in home runs (two ahead of Despaigne), led in total bases (100, 5 ahead of Peraza), was third in RBI (behind Peraza and Malleta), was 4th in walks (after Frederich Cepeda, Despaigne and Joan Carlos Pedroso), tied for second in intentional walks (14), was second in average (.011 behind José Miguel Fernández) and led in slugging (66 points ahead of Despaigne). He was the All-Star first baseman, but the MVP went to Ismel Jiménez, the first pitcher to win in 11 years.\\n',\n",
       " \"In the 2013 World Baseball Classic, the 26-year-old slugger was 9 for 25 with a walk, double, 3 home runs, 6 runs and 9 RBI in six games. He hit a grand slam off China's Yu Liu and a 2-run homer off Taiwan's Yi-Cheng Wang. In Cuba's last game, with a spot in the semifinals at stake, he had mixed results in a 7-6 loss to the Netherlands. He hit a solo homer off Orlando Yntema then singled off Shairon Martis in the 8th. In the 9th, though, he came up with two on and two out against Loek van Mil and flew out to Kalian Sams. For the tournament, he tied Despaigne for the most home runs, tied Mike Aviles for second in RBI (one behind David Wright) and tied Andrelton Simmons for second with 19 total bases (6 behind MVP Robinson Canó). Among players with 5+ games, he was 5th in slugging, between Canó and Chris Colabello. Despite worse numbers, Edwin Encarnación was picked as the Classic All-Star first baseman. \\n\",\n",
       " \"He defected from Cuba in August 2013. On October 29th, he signed a six-year deal with the Chicago White Sox for $68 million. He was the White Sox's Opening Day first baseman when he made his major league debut on March 31, 2014 and collected a pair of hits in 4 at-bats, a run and an RBI in a 5-3 win over the Minnesota Twins. He was in a bit of a slump when he hit the first two homers of his career in the same game on April 8th against the Colorado Rockies at Coors Field. The first was a three-run shot off Chad Bettis that broke open what was until then a tight 4-2 game; the Sox went on to score 11 runs over the last three innings of that game, winning 15-3, with Abreu homering again off Wilton López in the 8th for a two-run shot. He did not wait long for his second multi-homer game, as it came on April 10th, in a 7-3 win over the Cleveland Indians. That gave him 4 homers and 14 RBI in his first 10 big league games. He was only the third player in the past 60 years to have 14 or more RBI in their first 10 MLB contests, following Mitchell Page (1977) and Mark Quinn (1999), both of whom had 15. On April 25th, he hit a walk-off grand slam against Tampa Bay Rays closer Grant Balfour with two outs in the 9th, giving Chicago a 9-6 win. The big hit capped a three-hit, six-RBI day for Abreu; he had earlier hit a solo shot in the 3rd. On April 27th, he hit his 10th homer, extending his rookie record, and drove in 4 more runs in a 9-2 win over the Rays. The 31 RBI in April shattered the previous rookie mark of 27 held by Albert Pujols. Not surprisingly, he was named both the AL Player of the Month and Rookie of the Month for April. \\n\",\n",
       " \"Home run number 15, hit on May 14th off Luke Gregerson of the Oakland A's, was another big one, as it turned a 2-1 deficit in the 8th inning into a 4-2 win for the White Sox. He was placed on the disabled list on May 18th with tendinitis in his left ankle and activated on June 2nd. He had not lost a step, as he hit a two-run homer off Clayton Kershaw of the Los Angeles Dodgers in his first game back and hit another one the next day. He went on to win AL Rookie of the Month honors for the second time, on the strength of a .313 batting average, 10 homers, 22 RBI and 15 runs scored in 25 games. His 10 home runs in June were the most of anyone in the majors. On July 25th, he became the first major league players to hit 30 homers that year when he connected off Kevin Correia of the Minnesota Twins. It was not all home runs, though, as he also put together a 20-game hitting streak in July. He recorded a second combination of the Player of the Month and Rookie of the Month in July, after hitting .374 with 11 doubles, 6 homers and 19 RBI in 25 games. He went through a long homerless stretch in early August, going 77 plate appearances before launching his first homer of the month on August 19\\xadth, leading to speculation that he was hitting a wall, not being used to the long seasons in the United States. He collected his 100th RBI on September 13th; he was only the fourth rookie to combine that number with 30 homers and 30 doubles, after Hal Trosky, Ted Williams and Albert Pujols. His 35th homer the next day tied him with Ron Kittle for the team record for rookies and he set a new mark with his 36th on September 27th. He finished the season with a batting line of .317/.383/.581 in 145 games, with 35 doubles, 36 homers, 80 runs and 107 RBI. He was unanimously named the 2014 American League Rookie of the Year Award and won a Silver Slugger Award as the AL's best-hitting first baseman.\\n\",\n",
       " \"His 2015 season was slightly below his rookie year in terms of production, but still quite good. He played 154 games as the Sox's primary first baseman (he sometimes switched roles with Adam LaRoche, another first baseman who was the team's main DH) and hit .290 and slugged .502. He collected 34 doubles and 30 homers, scored 88 runs and drove in 101. His OPS+ was 135, excellent, but not as fabulous as the other-worldly 173 of his rookie year. He was only the second player in major league history, after Albert Pujols, to hit at least 30 homers and collect at least 100 RBI in his first two major league seasons. He did not win any major awards that year. After the season, he married fiancée Yusmary and took advantage of improving relations between the United States and Cuba to return to his native land as part of a goodwill tour put on by Major League Baseball, allowing him to reunite with his grandmother and the son he left behind when he defected. In 2016, following the abrupt retirement of Adam LaRoche in spring training, he played just about every day for the White Sox, getting into 159 games, of which 152 were starts at first base. He hit .293 with 25 homers and 100 RBI, his third straight year in triple figures. He also hit 32 doubles, but scored only 67 runs, a reflection on the weakness of the lineup hitting behind him as the Sox fizzled after a hot start and finished in 4th place in the AL Central.\\n\",\n",
       " 'When spring training opened in 2017, he was called to give testimony in the trial of two men, Bartolo Hernández and Julio Estrada, accused of smuggling Cuban ballplayers to Florida. He testified that the two had given him false documents in order to have him fly from Haiti, where he had first landed after fleeing Cuba, to Miami, FL; he explained that he swallowed parts of the documents while on the flight in order to destroy traces of that false identity. Meanwhile, the White Sox moved to a different tack, with manager Robin Ventura having been replaced by Rick Renteria and the team in rebuilding mode after trading two of their top stars, starting pitcher Chris Sale and outfielder Adam Eaton and now looking to rebuild with young players. Abreu was one of the few consistent hitters on a last-place team in what was a frustrating season. On September 9th, he became the first White Sox player since Jose Valentin in 2000 to hit for the cycle, achieving the feat in a 13-1 win over the San Francisco Giants. He homered off Jeff Samardzija in the 1st, doubled in the 3rd, added a single in the 7th and completed his day with a two-run triple off Roberto Gómez in the 8th. He was in the midst of a great streak at the plate, having hit .363 with 10 homers in his last 25 games. He followed his cycle with a two-homer game against the same Giants on September 10th and then a four-hit game against the Kansas City Royals the next day. He finished the year at .304 with 33 homers and 102 RBI in 156 games.\\n',\n",
       " 'In 2018, Abreu made the All-Star team for the second time in spite of putting up his weakest numbers. He played 128 games, his lowest total, and ended up at .265 with 22 homers and 78 RBI, all career lows. He only played 35 games after the All-Star break because of injuries, but hit much better during that span, as he hit just .253 with 13 homers in the first half; his OPS was .752 at the time but he increased it to a more normal .922 after the break. His being at the All-Star Game was a result of being voted in by the fans, a puzzling outcome even taking into account the fact that there were no outstanding candidates at first base in the AL that year, but even more puzzling was his being voted the winner of the Silver Slugger Award. He bounced back in 2019, as the Sox gave signs of being on the brink of competitiveness. He played 159 games, principally at first base, and hit .284 with 33 homers and 123 RBI, that latter total leading the AL. He also led the league in grounding into double plays (24) and his OPS+ was 119 - good but not great for a player whose sole value is with the bat. He was again an All-Star. After the season, he re-signed with Chicago for three years and $50 million, a bit of a gamble given that at 32, he was likely to fall further away from the production of his prime years at a time when the White Sox were looking to make a move up in the standings.\\n',\n",
       " 'In the abbreviated 2020 season, the White Sox were finally contenders for a postseason berth, and Abreu was in the middle of things. On August 22nd, he had a three-homer game for the first time of his career in leading the Sox to a 7-4 win over the Chicago Cubs. He had hit two homers the night before, giving him five in two games. He homered again in his first at-bat of the game on August 23rd, off Yu Darvish of the Cubs, to give him a homer in four straight at-bats, tying a record. It was the 43rd time in major league history a batter had accomplished that feat. He was named the American League Player of the Month for August, as he hit .330 with 11 homers and 29 RBIs in the month. He continued to hit in September, finishing at .317 with with 19 homers and 60 RBIs. He was one of a handful of players to play all 60 games that year, and led the AL in hits (76), RBIs, slugging percentage (.617) and total bases (148). He was then voted the winner of the MVP Award in addition to receiving his third Silver Slugger Award. In the postseason, he was 4 for 14 with a double and a homer in 3 games as the White Sox lost a tightly-fought series to the Oakland Athletics in the Wild Card Series.\\n',\n",
       " 'He started off the 2021 season where he had left off the year before, becoming the first major leaguer to hit a grand slam that year as he connected with the bases loaded off Andrew Heaney of the Los Angeles Angels in the 3rd inning of a 12-8 win. He was a bit under the radar the first few months as other players led the White Sox to a great start that quickly gave them a huge lead in the AL Central race. However, he was at his best in August, when he earned Player of the Month honors for the fourth time of his career on the strength of a .330 batting average, 10 homers, 74 total bases, 22 runs and 25 RBIs. He again broke the 100-RBI for the year mark during the month, his 6th time doing so, and also took over the league lead in the category.\\n',\n",
       " '\\n',\n",
       " 'Every Sports Reference Social Media Account',\n",
       " 'Site Last Updated: ',\n",
       " 'Question, Comment, Feedback, or Correction?',\n",
       " 'Are you a Stathead, too? Subscribe to our Free Newsletter',\n",
       " 'This Week in Sports ReferenceFind out when we add a feature or make a change',\n",
       " 'Do you have a sports website? Or write about sports? We have tools and resources that can help you use sports data.  Find out more.',\n",
       " 'All logos are the trademark & property of their owners and not Sports Reference LLC.  We present them here for purely educational purposes.\\n\\t\\t\\t\\tOur reasoning for presenting offensive logos.',\n",
       " '\\n\\t\\t\\t\\t\\t\\n\\t\\t\\t\\t\\tLogos were compiled by the amazing SportsLogos.net.\\n',\n",
       " 'Copyright © 2000-2020 Sports Reference LLC. All rights reserved.',\n",
       " 'Much of the play-by-play, game results, and transaction information both shown and used to create certain data sets was obtained free of charge from and is copyrighted by RetroSheet.',\n",
       " 'Win Expectancy, Run Expectancy, and Leverage Index calculations provided by Tom Tango of InsideTheBook.com, and co-author of The Book: Playing the Percentages in Baseball.',\n",
       " 'Total Zone Rating and initial framework for Wins above Replacement calculations provided by Sean Smith.',\n",
       " 'Full-year historical Major League statistics provided by Pete Palmer and Gary Gillette of Hidden Game Sports.',\n",
       " '',\n",
       " 'Some defensive statistics Copyright © Baseball Info Solutions, 2010-2020.',\n",
       " 'Some high school data is courtesy David McWater.',\n",
       " 'Many historical player head shots courtesy of David Davis. Many thanks to him. All images are property the copyright holder and are displayed here for informational purposes only.']"
      ]
     },
     "execution_count": 3,
     "metadata": {},
     "output_type": "execute_result"
    }
   ],
   "source": []
  },
  {
   "cell_type": "code",
   "execution_count": null,
   "metadata": {},
   "outputs": [],
   "source": []
  },
  {
   "cell_type": "code",
   "execution_count": 7,
   "metadata": {},
   "outputs": [
    {
     "name": "stdout",
     "output_type": "stream",
     "text": [
      "\n",
      "https://statsapi.mlb.com/api/v1/people?personIds=608337&hydrate=stats(type=[career,careerAdvanced,yearByYear,yearByYearAdvanced,pitchArsenal],group=[hitting,fielding,pitching],gameType=[R,P],sitCodes=[h,a]),rosterEntries,education,xrefId,draft,awards,transactions\n",
      "\n"
     ]
    }
   ],
   "source": [
    "p = mlb.Player(608337)\n",
    "with requests.session() as sesh:\n",
    "    sesh.get(\"https://www.baseball-reference.com/redirect.fcgi?player=1&mlb_ID=547989\")\n",
    "    sesh.get(\"https://www.baseball-reference.com/bullpen/Jos%C3%A9_Abreu\")"
   ]
  },
  {
   "cell_type": "code",
   "execution_count": 5,
   "metadata": {},
   "outputs": [
    {
     "ename": "KeyError",
     "evalue": "'education'",
     "output_type": "error",
     "traceback": [
      "\u001b[0;31m---------------------------------------------------------------------------\u001b[0m",
      "\u001b[0;31mKeyError\u001b[0m                                  Traceback (most recent call last)",
      "\u001b[0;32m/var/folders/zr/zg5glfgx0nnglw9432y0hl5w0000gn/T/ipykernel_8701/2297552342.py\u001b[0m in \u001b[0;36m<module>\u001b[0;34m\u001b[0m\n\u001b[0;32m----> 1\u001b[0;31m \u001b[0md\u001b[0m\u001b[0;34m[\u001b[0m\u001b[0;34m\"education\"\u001b[0m\u001b[0;34m]\u001b[0m\u001b[0;34m\u001b[0m\u001b[0;34m\u001b[0m\u001b[0m\n\u001b[0m",
      "\u001b[0;31mKeyError\u001b[0m: 'education'"
     ]
    }
   ],
   "source": []
  },
  {
   "cell_type": "code",
   "execution_count": null,
   "metadata": {},
   "outputs": [],
   "source": []
  }
 ],
 "metadata": {
  "interpreter": {
   "hash": "290a4e1496360bee5be2c9273f15849004c3990b55f9c717ea6d4be35dd535e9"
  },
  "kernelspec": {
   "display_name": "Python 3.10.0 ('ssvenv')",
   "language": "python",
   "name": "python3"
  },
  "language_info": {
   "codemirror_mode": {
    "name": "ipython",
    "version": 3
   },
   "file_extension": ".py",
   "mimetype": "text/x-python",
   "name": "python",
   "nbconvert_exporter": "python",
   "pygments_lexer": "ipython3",
   "version": "3.10.0"
  },
  "orig_nbformat": 4
 },
 "nbformat": 4,
 "nbformat_minor": 2
}
