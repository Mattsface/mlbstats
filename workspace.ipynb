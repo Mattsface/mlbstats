{
 "cells": [
  {
   "cell_type": "code",
   "execution_count": 1,
   "metadata": {},
   "outputs": [],
   "source": [
    "import lxml\n",
    "import time\n",
    "import datetime as dt\n",
    "import mlb\n",
    "import requests\n",
    "import requests_html\n",
    "import pandas as pd\n",
    "from mlb.utils import keys"
   ]
  },
  {
   "cell_type": "code",
   "execution_count": 2,
   "metadata": {},
   "outputs": [],
   "source": [
    "f = mlb.franchise(145)"
   ]
  },
  {
   "cell_type": "code",
   "execution_count": 3,
   "metadata": {},
   "outputs": [],
   "source": [
    "t = mlb.team(145,2021)"
   ]
  },
  {
   "cell_type": "code",
   "execution_count": 17,
   "metadata": {},
   "outputs": [],
   "source": [
    "person_data = requests.get(\"https://statsapi.mlb.com/api/v1/people/547989\").json()['people'][0]\n",
    "abreu = mlb.person(person_data)"
   ]
  },
  {
   "cell_type": "code",
   "execution_count": 30,
   "metadata": {},
   "outputs": [
    {
     "name": "stdout",
     "output_type": "stream",
     "text": [
      "<class '__main__.person'>\n",
      "joe\n",
      "25\n",
      "\n",
      "<class '__main__.student'>\n",
      "joe\n",
      "25\n",
      "[('__class__', <class '__main__.student'>), ('__delattr__', <method-wrapper '__delattr__' of student object at 0x7fa0ffa01e40>), ('__dict__', {'name': 'joe', 'age': 25}), ('__dir__', <built-in method __dir__ of student object at 0x7fa0ffa01e40>), ('__doc__', None), ('__eq__', <method-wrapper '__eq__' of student object at 0x7fa0ffa01e40>), ('__format__', <built-in method __format__ of student object at 0x7fa0ffa01e40>), ('__ge__', <method-wrapper '__ge__' of student object at 0x7fa0ffa01e40>), ('__getattribute__', <method-wrapper '__getattribute__' of student object at 0x7fa0ffa01e40>), ('__getitem__', <bound method person.__getitem__ of <__main__.student object at 0x7fa0ffa01e40>>), ('__gt__', <method-wrapper '__gt__' of student object at 0x7fa0ffa01e40>), ('__hash__', <method-wrapper '__hash__' of student object at 0x7fa0ffa01e40>), ('__init__', <bound method student.__init__ of <__main__.student object at 0x7fa0ffa01e40>>), ('__init_subclass__', <built-in method __init_subclass__ of type object at 0x7fa0f888c6a0>), ('__le__', <method-wrapper '__le__' of student object at 0x7fa0ffa01e40>), ('__lt__', <method-wrapper '__lt__' of student object at 0x7fa0ffa01e40>), ('__module__', '__main__'), ('__ne__', <method-wrapper '__ne__' of student object at 0x7fa0ffa01e40>), ('__new__', <built-in method __new__ of type object at 0x10c933880>), ('__reduce__', <built-in method __reduce__ of student object at 0x7fa0ffa01e40>), ('__reduce_ex__', <built-in method __reduce_ex__ of student object at 0x7fa0ffa01e40>), ('__repr__', <method-wrapper '__repr__' of student object at 0x7fa0ffa01e40>), ('__setattr__', <bound method person.__setattr__ of <__main__.student object at 0x7fa0ffa01e40>>), ('__sizeof__', <built-in method __sizeof__ of student object at 0x7fa0ffa01e40>), ('__str__', <method-wrapper '__str__' of student object at 0x7fa0ffa01e40>), ('__subclasshook__', <built-in method __subclasshook__ of type object at 0x7fa0f888c6a0>), ('__weakref__', None), ('age', 25), ('name', 'joe')]\n"
     ]
    }
   ],
   "source": [
    "\n",
    "class person:\n",
    "    def __init__(self,name:str,**kwargs):\n",
    "        self.__dict__.update({'name':name})\n",
    "        self.__dict__.update(kwargs)\n",
    "\n",
    "        \n",
    "    def __getitem__(self,_attr):\n",
    "        return getattr(self,_attr)\n",
    "    \n",
    "    def __setattr__(self,_attr,_val):\n",
    "        pass\n",
    "        \n",
    "    # def __init_subclass__(cls):\n",
    "    #     pass\n",
    "        \n",
    "class student(person):\n",
    "    def __init__(self,name:str,**kwargs):\n",
    "        _kwargs = locals()\n",
    "        _kwargs.pop('self')\n",
    "        super().__init__(name,**kwargs)\n",
    "    \n",
    "    # def __setattr__(self,_attr,_val):\n",
    "    #     setattr(_attr,_val)\n",
    "        \n",
    "p = person(name='joe',age=25)\n",
    "s = student(name='joe',age=25)\n",
    "print(type(p))\n",
    "print(p.name)\n",
    "print(p.age)\n",
    "print('')\n",
    "print(type(s))\n",
    "print(s.name)\n",
    "print(s.age)\n",
    "\n"
   ]
  },
  {
   "cell_type": "code",
   "execution_count": 26,
   "metadata": {},
   "outputs": [
    {
     "data": {
      "text/plain": [
       "['name',\n",
       " 'age',\n",
       " '__module__',\n",
       " '__init__',\n",
       " '__getitem__',\n",
       " '__setattr__',\n",
       " '__dict__',\n",
       " '__weakref__',\n",
       " '__doc__',\n",
       " '__new__',\n",
       " '__repr__',\n",
       " '__hash__',\n",
       " '__str__',\n",
       " '__getattribute__',\n",
       " '__delattr__',\n",
       " '__lt__',\n",
       " '__le__',\n",
       " '__eq__',\n",
       " '__ne__',\n",
       " '__gt__',\n",
       " '__ge__',\n",
       " '__reduce_ex__',\n",
       " '__reduce__',\n",
       " '__subclasshook__',\n",
       " '__init_subclass__',\n",
       " '__format__',\n",
       " '__sizeof__',\n",
       " '__dir__',\n",
       " '__class__']"
      ]
     },
     "execution_count": 26,
     "metadata": {},
     "output_type": "execute_result"
    }
   ],
   "source": []
  },
  {
   "cell_type": "code",
   "execution_count": 18,
   "metadata": {},
   "outputs": [
    {
     "ename": "AttributeError",
     "evalue": "'student' object has no attribute 'name'",
     "output_type": "error",
     "traceback": [
      "\u001b[0;31m---------------------------------------------------------------------------\u001b[0m",
      "\u001b[0;31mAttributeError\u001b[0m                            Traceback (most recent call last)",
      "\u001b[0;32m/var/folders/zr/zg5glfgx0nnglw9432y0hl5w0000gn/T/ipykernel_9248/1888443627.py\u001b[0m in \u001b[0;36m<module>\u001b[0;34m\u001b[0m\n\u001b[0;32m----> 1\u001b[0;31m \u001b[0mp\u001b[0m\u001b[0;34m.\u001b[0m\u001b[0mname\u001b[0m\u001b[0;34m\u001b[0m\u001b[0;34m\u001b[0m\u001b[0m\n\u001b[0m",
      "\u001b[0;31mAttributeError\u001b[0m: 'student' object has no attribute 'name'"
     ]
    }
   ],
   "source": [
    "p.name"
   ]
  },
  {
   "cell_type": "code",
   "execution_count": 42,
   "metadata": {},
   "outputs": [
    {
     "data": {
      "text/plain": [
       "'joe'"
      ]
     },
     "execution_count": 42,
     "metadata": {},
     "output_type": "execute_result"
    }
   ],
   "source": [
    "p.name = 'joey'\n",
    "p['name']"
   ]
  },
  {
   "cell_type": "code",
   "execution_count": 37,
   "metadata": {},
   "outputs": [
    {
     "ename": "AttributeError",
     "evalue": "type object 'dict' has no attribute '__get__'",
     "output_type": "error",
     "traceback": [
      "\u001b[0;31m---------------------------------------------------------------------------\u001b[0m",
      "\u001b[0;31mAttributeError\u001b[0m                            Traceback (most recent call last)",
      "\u001b[0;32m/var/folders/zr/zg5glfgx0nnglw9432y0hl5w0000gn/T/ipykernel_8018/558455806.py\u001b[0m in \u001b[0;36m<module>\u001b[0;34m\u001b[0m\n\u001b[0;32m----> 1\u001b[0;31m \u001b[0mdict\u001b[0m\u001b[0;34m.\u001b[0m\u001b[0m__get__\u001b[0m\u001b[0;34m(\u001b[0m\u001b[0;34m)\u001b[0m\u001b[0;34m\u001b[0m\u001b[0;34m\u001b[0m\u001b[0m\n\u001b[0m",
      "\u001b[0;31mAttributeError\u001b[0m: type object 'dict' has no attribute '__get__'"
     ]
    }
   ],
   "source": []
  },
  {
   "cell_type": "code",
   "execution_count": null,
   "metadata": {},
   "outputs": [],
   "source": []
  },
  {
   "cell_type": "code",
   "execution_count": 6,
   "metadata": {},
   "outputs": [],
   "source": [
    "s = student(name='joe')"
   ]
  },
  {
   "cell_type": "code",
   "execution_count": 8,
   "metadata": {},
   "outputs": [],
   "source": [
    "s.weight = 140"
   ]
  },
  {
   "cell_type": "code",
   "execution_count": 9,
   "metadata": {},
   "outputs": [
    {
     "data": {
      "text/plain": [
       "140"
      ]
     },
     "execution_count": 9,
     "metadata": {},
     "output_type": "execute_result"
    }
   ],
   "source": [
    "s.weight"
   ]
  },
  {
   "cell_type": "code",
   "execution_count": 21,
   "metadata": {},
   "outputs": [
    {
     "data": {
      "text/plain": [
       "True"
      ]
     },
     "execution_count": 21,
     "metadata": {},
     "output_type": "execute_result"
    }
   ],
   "source": []
  },
  {
   "cell_type": "code",
   "execution_count": null,
   "metadata": {},
   "outputs": [],
   "source": []
  },
  {
   "cell_type": "code",
   "execution_count": null,
   "metadata": {},
   "outputs": [],
   "source": []
  },
  {
   "cell_type": "code",
   "execution_count": 13,
   "metadata": {},
   "outputs": [
    {
     "data": {
      "text/plain": [
       "__main__.student"
      ]
     },
     "execution_count": 13,
     "metadata": {},
     "output_type": "execute_result"
    }
   ],
   "source": []
  },
  {
   "cell_type": "code",
   "execution_count": null,
   "metadata": {},
   "outputs": [],
   "source": []
  },
  {
   "cell_type": "code",
   "execution_count": null,
   "metadata": {},
   "outputs": [],
   "source": [
    "start = time.time()\n",
    "tm = mlb.team_data(145,2021,_logtime=False)\n",
    "pd.DataFrame().iloc"
   ]
  },
  {
   "cell_type": "code",
   "execution_count": 3,
   "metadata": {},
   "outputs": [],
   "source": [
    "abreu = mlb.player(547989)"
   ]
  },
  {
   "cell_type": "code",
   "execution_count": 5,
   "metadata": {},
   "outputs": [
    {
     "name": "stdout",
     "output_type": "stream",
     "text": [
      "joe\n"
     ]
    }
   ],
   "source": [
    "class person:\n",
    "    def __init__(self,name:str):\n",
    "        self.__name = name\n",
    "        \n",
    "\n",
    "    @property    \n",
    "    def name(self):\n",
    "        return self.__name\n",
    "\n",
    "p = person('joe')\n",
    "print(p.name)"
   ]
  },
  {
   "cell_type": "code",
   "execution_count": 6,
   "metadata": {},
   "outputs": [
    {
     "ename": "AttributeError",
     "evalue": "can't set attribute 'name'",
     "output_type": "error",
     "traceback": [
      "\u001b[0;31m---------------------------------------------------------------------------\u001b[0m",
      "\u001b[0;31mAttributeError\u001b[0m                            Traceback (most recent call last)",
      "\u001b[0;32m/var/folders/zr/zg5glfgx0nnglw9432y0hl5w0000gn/T/ipykernel_4593/442306457.py\u001b[0m in \u001b[0;36m<module>\u001b[0;34m\u001b[0m\n\u001b[0;32m----> 1\u001b[0;31m \u001b[0mp\u001b[0m\u001b[0;34m.\u001b[0m\u001b[0mname\u001b[0m \u001b[0;34m=\u001b[0m \u001b[0;34m'joey'\u001b[0m\u001b[0;34m\u001b[0m\u001b[0;34m\u001b[0m\u001b[0m\n\u001b[0m",
      "\u001b[0;31mAttributeError\u001b[0m: can't set attribute 'name'"
     ]
    }
   ],
   "source": [
    "p.name = 'joey'"
   ]
  },
  {
   "cell_type": "code",
   "execution_count": 20,
   "metadata": {},
   "outputs": [
    {
     "data": {
      "text/plain": [
       "'joe'"
      ]
     },
     "execution_count": 20,
     "metadata": {},
     "output_type": "execute_result"
    }
   ],
   "source": [
    "p.name"
   ]
  },
  {
   "cell_type": "code",
   "execution_count": 28,
   "metadata": {},
   "outputs": [],
   "source": [
    "series = pd.Series(data={'start':'2021-09-1','end':'2022-3-04'})\n",
    "\n",
    "\n",
    "\n",
    "series['start'] = pd.to_datetime(series['start'],format=r\"%Y-%m-%d\")\n",
    "\n",
    "# series"
   ]
  },
  {
   "cell_type": "code",
   "execution_count": 29,
   "metadata": {},
   "outputs": [
    {
     "data": {
      "text/plain": [
       "start    2021-09-01 00:00:00\n",
       "end                2022-3-04\n",
       "dtype: object"
      ]
     },
     "execution_count": 29,
     "metadata": {},
     "output_type": "execute_result"
    }
   ],
   "source": [
    "series"
   ]
  },
  {
   "cell_type": "code",
   "execution_count": null,
   "metadata": {},
   "outputs": [],
   "source": []
  }
 ],
 "metadata": {
  "interpreter": {
   "hash": "290a4e1496360bee5be2c9273f15849004c3990b55f9c717ea6d4be35dd535e9"
  },
  "kernelspec": {
   "display_name": "Python 3.10.0 ('ssvenv')",
   "language": "python",
   "name": "python3"
  },
  "language_info": {
   "codemirror_mode": {
    "name": "ipython",
    "version": 3
   },
   "file_extension": ".py",
   "mimetype": "text/x-python",
   "name": "python",
   "nbconvert_exporter": "python",
   "pygments_lexer": "ipython3",
   "version": "3.10.0"
  },
  "orig_nbformat": 4
 },
 "nbformat": 4,
 "nbformat_minor": 2
}
