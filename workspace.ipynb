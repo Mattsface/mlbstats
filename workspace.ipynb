{
 "cells": [
  {
   "cell_type": "code",
   "execution_count": 1,
   "metadata": {},
   "outputs": [],
   "source": [
    "import lxml\n",
    "import time\n",
    "import datetime as dt\n",
    "import mlb\n",
    "import requests\n",
    "import requests_html\n",
    "import pandas as pd\n",
    "from mlb.utils import keys"
   ]
  },
  {
   "cell_type": "code",
   "execution_count": 2,
   "metadata": {},
   "outputs": [],
   "source": [
    "person_data = requests.get(\"https://statsapi.mlb.com/api/v1/people/547989\").json()['people'][0]\n",
    "abreu = mlb.person(person_data)"
   ]
  },
  {
   "cell_type": "code",
   "execution_count": 2,
   "metadata": {},
   "outputs": [],
   "source": [
    "tm = mlb.team(145,2021)"
   ]
  },
  {
   "cell_type": "code",
   "execution_count": 6,
   "metadata": {},
   "outputs": [
    {
     "name": "stdout",
     "output_type": "stream",
     "text": [
      "{'mlbam': 145, 'full_name': 'Chicago White Sox', 'location_name': 'Chicago', 'franchise_name': 'Chicago', 'team_name': 'White Sox', 'club_name': 'White Sox', 'short_name': 'Chi White Sox', 'venue_mlbam': 4, 'venue_name': 'Guaranteed Rate Field', 'first_year': '1901', 'league_mlbam': 103, 'league_name': 'American League', 'league_short': 'American', 'league_abbrv': 'AL', 'div_mlbam': 202, 'div_name': 'American League Central', 'div_short': 'AL Central', 'div_abbrv': 'ALC', 'season': 2021}\n"
     ]
    }
   ],
   "source": [
    "new_dict = {}\n",
    "for k,v in tm('team_info').items():\n",
    "    new_dict[k] = type(v)\n",
    "print(new_dict)"
   ]
  },
  {
   "cell_type": "code",
   "execution_count": null,
   "metadata": {},
   "outputs": [],
   "source": [
    "start = time.time()\n",
    "tm = mlb.team_data(145,2021,_logtime=False)"
   ]
  },
  {
   "cell_type": "code",
   "execution_count": 3,
   "metadata": {},
   "outputs": [],
   "source": [
    "abreu = mlb.player(547989)"
   ]
  },
  {
   "cell_type": "code",
   "execution_count": 5,
   "metadata": {},
   "outputs": [
    {
     "data": {
      "text/plain": [
       "namespace(name='Chicago White Sox', mlbam=145)"
      ]
     },
     "execution_count": 5,
     "metadata": {},
     "output_type": "execute_result"
    }
   ],
   "source": [
    "abreu.team"
   ]
  },
  {
   "cell_type": "code",
   "execution_count": 3,
   "metadata": {},
   "outputs": [],
   "source": [
    "df = tm[-7]"
   ]
  },
  {
   "cell_type": "code",
   "execution_count": 28,
   "metadata": {},
   "outputs": [],
   "source": [
    "series = pd.Series(data={'start':'2021-09-1','end':'2022-3-04'})\n",
    "\n",
    "\n",
    "\n",
    "series['start'] = pd.to_datetime(series['start'],format=r\"%Y-%m-%d\")\n",
    "\n",
    "# series"
   ]
  },
  {
   "cell_type": "code",
   "execution_count": 29,
   "metadata": {},
   "outputs": [
    {
     "data": {
      "text/plain": [
       "start    2021-09-01 00:00:00\n",
       "end                2022-3-04\n",
       "dtype: object"
      ]
     },
     "execution_count": 29,
     "metadata": {},
     "output_type": "execute_result"
    }
   ],
   "source": [
    "series"
   ]
  },
  {
   "cell_type": "code",
   "execution_count": null,
   "metadata": {},
   "outputs": [],
   "source": []
  }
 ],
 "metadata": {
  "interpreter": {
   "hash": "290a4e1496360bee5be2c9273f15849004c3990b55f9c717ea6d4be35dd535e9"
  },
  "kernelspec": {
   "display_name": "Python 3.10.0 ('ssvenv')",
   "language": "python",
   "name": "python3"
  },
  "language_info": {
   "codemirror_mode": {
    "name": "ipython",
    "version": 3
   },
   "file_extension": ".py",
   "mimetype": "text/x-python",
   "name": "python",
   "nbconvert_exporter": "python",
   "pygments_lexer": "ipython3",
   "version": "3.10.0"
  },
  "orig_nbformat": 4
 },
 "nbformat": 4,
 "nbformat_minor": 2
}
