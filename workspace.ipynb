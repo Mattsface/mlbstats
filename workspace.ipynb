{
 "cells": [
  {
   "cell_type": "code",
   "execution_count": 1,
   "metadata": {},
   "outputs": [],
   "source": [
    "import mlb"
   ]
  },
  {
   "cell_type": "code",
   "execution_count": 2,
   "metadata": {},
   "outputs": [],
   "source": [
    "a = mlb.StatsAPI.people(547989)"
   ]
  },
  {
   "cell_type": "code",
   "execution_count": 6,
   "metadata": {},
   "outputs": [
    {
     "data": {
      "text/plain": [
       "{'copyright': 'Copyright 2022 MLB Advanced Media, L.P.  Use of any content on this page acknowledges agreement to the terms posted here http://gdx.mlb.com/components/copyright.txt',\n",
       " 'stats': [{'type': {'displayName': 'season'},\n",
       "   'group': {'displayName': 'hitting'},\n",
       "   'exemptions': [],\n",
       "   'splits': [{'season': '2021',\n",
       "     'stat': {'gamesPlayed': 152,\n",
       "      'groundOuts': 156,\n",
       "      'airOuts': 129,\n",
       "      'runs': 86,\n",
       "      'doubles': 30,\n",
       "      'triples': 2,\n",
       "      'homeRuns': 30,\n",
       "      'strikeOuts': 143,\n",
       "      'baseOnBalls': 61,\n",
       "      'intentionalWalks': 3,\n",
       "      'hits': 148,\n",
       "      'hitByPitch': 22,\n",
       "      'avg': '.261',\n",
       "      'atBats': 566,\n",
       "      'obp': '.351',\n",
       "      'slg': '.481',\n",
       "      'ops': '.832',\n",
       "      'caughtStealing': 0,\n",
       "      'stolenBases': 1,\n",
       "      'stolenBasePercentage': '1.000',\n",
       "      'groundIntoDoublePlay': 28,\n",
       "      'numberOfPitches': 2606,\n",
       "      'plateAppearances': 659,\n",
       "      'totalBases': 272,\n",
       "      'rbi': 117,\n",
       "      'leftOnBase': 249,\n",
       "      'sacBunts': 0,\n",
       "      'sacFlies': 10,\n",
       "      'babip': '.293',\n",
       "      'groundOutsToAirouts': '1.21',\n",
       "      'catchersInterference': 0,\n",
       "      'atBatsPerHomeRun': '18.87'},\n",
       "     'team': {'id': 145,\n",
       "      'name': 'Chicago White Sox',\n",
       "      'link': '/api/v1/teams/145'},\n",
       "     'player': {'id': 547989,\n",
       "      'fullName': 'Jose Abreu',\n",
       "      'link': '/api/v1/people/547989'},\n",
       "     'league': {'id': 103,\n",
       "      'name': 'American League',\n",
       "      'link': '/api/v1/league/103'},\n",
       "     'sport': {'id': 1, 'link': '/api/v1/sports/1', 'abbreviation': 'MLB'},\n",
       "     'gameType': 'R'}]}]}"
      ]
     },
     "execution_count": 6,
     "metadata": {},
     "output_type": "execute_result"
    }
   ],
   "source": [
    "a.stats('season','hitting',2020)"
   ]
  },
  {
   "cell_type": "code",
   "execution_count": null,
   "metadata": {},
   "outputs": [],
   "source": []
  }
 ],
 "metadata": {
  "interpreter": {
   "hash": "290a4e1496360bee5be2c9273f15849004c3990b55f9c717ea6d4be35dd535e9"
  },
  "kernelspec": {
   "display_name": "Python 3.10.0 ('ssvenv')",
   "language": "python",
   "name": "python3"
  },
  "language_info": {
   "codemirror_mode": {
    "name": "ipython",
    "version": 3
   },
   "file_extension": ".py",
   "mimetype": "text/x-python",
   "name": "python",
   "nbconvert_exporter": "python",
   "pygments_lexer": "ipython3",
   "version": "3.10.0"
  },
  "orig_nbformat": 4
 },
 "nbformat": 4,
 "nbformat_minor": 2
}
