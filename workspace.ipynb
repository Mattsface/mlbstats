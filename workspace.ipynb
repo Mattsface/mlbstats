{
 "cells": [
  {
   "cell_type": "code",
   "execution_count": 1,
   "metadata": {},
   "outputs": [],
   "source": [
    "import lxml\n",
    "import time\n",
    "import datetime as dt\n",
    "import mlb\n",
    "import requests\n",
    "import pandas as pd\n",
    "from mlb.utils import keys\n",
    "from IPython.display import display"
   ]
  },
  {
   "cell_type": "code",
   "execution_count": 4,
   "metadata": {},
   "outputs": [],
   "source": [
    "p = mlb.Person(117244)"
   ]
  },
  {
   "cell_type": "code",
   "execution_count": 5,
   "metadata": {},
   "outputs": [
    {
     "data": {
      "text/html": [
       "<div>\n",
       "<style scoped>\n",
       "    .dataframe tbody tr th:only-of-type {\n",
       "        vertical-align: middle;\n",
       "    }\n",
       "\n",
       "    .dataframe tbody tr th {\n",
       "        vertical-align: top;\n",
       "    }\n",
       "\n",
       "    .dataframe thead th {\n",
       "        text-align: right;\n",
       "    }\n",
       "</style>\n",
       "<table border=\"1\" class=\"dataframe\">\n",
       "  <thead>\n",
       "    <tr style=\"text-align: right;\">\n",
       "      <th></th>\n",
       "      <th>jersey</th>\n",
       "      <th>position</th>\n",
       "      <th>status</th>\n",
       "      <th>team</th>\n",
       "      <th>tm_mlbam</th>\n",
       "      <th>from_date</th>\n",
       "      <th>to_date</th>\n",
       "      <th>status_date</th>\n",
       "      <th>forty_man</th>\n",
       "      <th>active</th>\n",
       "    </tr>\n",
       "  </thead>\n",
       "  <tbody>\n",
       "    <tr>\n",
       "      <th>0</th>\n",
       "      <td>14</td>\n",
       "      <td>1B</td>\n",
       "      <td>Free Agent</td>\n",
       "      <td>Chicago White Sox</td>\n",
       "      <td>145</td>\n",
       "      <td>2013-12-04</td>\n",
       "      <td>2014-10-30</td>\n",
       "      <td>2014-10-30</td>\n",
       "      <td>False</td>\n",
       "      <td>False</td>\n",
       "    </tr>\n",
       "    <tr>\n",
       "      <th>1</th>\n",
       "      <td>-</td>\n",
       "      <td>1B</td>\n",
       "      <td>Traded</td>\n",
       "      <td>Cincinnati Reds</td>\n",
       "      <td>113</td>\n",
       "      <td>1998-07-04</td>\n",
       "      <td>1998-11-11</td>\n",
       "      <td>1998-07-04</td>\n",
       "      <td>False</td>\n",
       "      <td>False</td>\n",
       "    </tr>\n",
       "    <tr>\n",
       "      <th>2</th>\n",
       "      <td>-</td>\n",
       "      <td>1B</td>\n",
       "      <td>Traded</td>\n",
       "      <td>Los Angeles Dodgers</td>\n",
       "      <td>119</td>\n",
       "      <td>1994-06-30</td>\n",
       "      <td>1998-07-04</td>\n",
       "      <td>1994-06-30</td>\n",
       "      <td>False</td>\n",
       "      <td>False</td>\n",
       "    </tr>\n",
       "  </tbody>\n",
       "</table>\n",
       "</div>"
      ],
      "text/plain": [
       "  jersey position      status                 team  tm_mlbam   from_date  \\\n",
       "0     14       1B  Free Agent    Chicago White Sox       145  2013-12-04   \n",
       "1      -       1B      Traded      Cincinnati Reds       113  1998-07-04   \n",
       "2      -       1B      Traded  Los Angeles Dodgers       119  1994-06-30   \n",
       "\n",
       "      to_date status_date  forty_man  active  \n",
       "0  2014-10-30  2014-10-30      False   False  \n",
       "1  1998-11-11  1998-07-04      False   False  \n",
       "2  1998-07-04  1994-06-30      False   False  "
      ]
     },
     "metadata": {},
     "output_type": "display_data"
    },
    {
     "data": {
      "text/html": [
       "<div>\n",
       "<style scoped>\n",
       "    .dataframe tbody tr th:only-of-type {\n",
       "        vertical-align: middle;\n",
       "    }\n",
       "\n",
       "    .dataframe tbody tr th {\n",
       "        vertical-align: top;\n",
       "    }\n",
       "\n",
       "    .dataframe thead th {\n",
       "        text-align: right;\n",
       "    }\n",
       "</style>\n",
       "<table border=\"1\" class=\"dataframe\">\n",
       "  <thead>\n",
       "    <tr style=\"text-align: right;\">\n",
       "      <th></th>\n",
       "      <th>tm_mlbam</th>\n",
       "      <th>tm_full_name</th>\n",
       "      <th>tm_location</th>\n",
       "      <th>tm_club</th>\n",
       "      <th>tm_slug</th>\n",
       "    </tr>\n",
       "  </thead>\n",
       "  <tbody>\n",
       "    <tr>\n",
       "      <th>0</th>\n",
       "      <td>145</td>\n",
       "      <td>Chicago White Sox</td>\n",
       "      <td>Chicago</td>\n",
       "      <td>White Sox</td>\n",
       "      <td>white-sox-145</td>\n",
       "    </tr>\n",
       "    <tr>\n",
       "      <th>1</th>\n",
       "      <td>113</td>\n",
       "      <td>Cincinnati Reds</td>\n",
       "      <td>Cincinnati</td>\n",
       "      <td>Reds</td>\n",
       "      <td>reds-113</td>\n",
       "    </tr>\n",
       "    <tr>\n",
       "      <th>2</th>\n",
       "      <td>119</td>\n",
       "      <td>Los Angeles Dodgers</td>\n",
       "      <td>Los Angeles</td>\n",
       "      <td>Dodgers</td>\n",
       "      <td>dodgers-119</td>\n",
       "    </tr>\n",
       "  </tbody>\n",
       "</table>\n",
       "</div>"
      ],
      "text/plain": [
       "   tm_mlbam         tm_full_name  tm_location    tm_club        tm_slug\n",
       "0       145    Chicago White Sox      Chicago  White Sox  white-sox-145\n",
       "1       113      Cincinnati Reds   Cincinnati       Reds       reds-113\n",
       "2       119  Los Angeles Dodgers  Los Angeles    Dodgers    dodgers-119"
      ]
     },
     "metadata": {},
     "output_type": "display_data"
    }
   ],
   "source": [
    "display(p.roster_entries)\n",
    "display(p.teams)"
   ]
  },
  {
   "cell_type": "code",
   "execution_count": 6,
   "metadata": {},
   "outputs": [],
   "source": [
    "t = p.past_teams_list[0]"
   ]
  },
  {
   "cell_type": "code",
   "execution_count": 10,
   "metadata": {},
   "outputs": [
    {
     "data": {
      "text/plain": [
       "4"
      ]
     },
     "execution_count": 10,
     "metadata": {},
     "output_type": "execute_result"
    }
   ],
   "source": []
  },
  {
   "cell_type": "code",
   "execution_count": 7,
   "metadata": {},
   "outputs": [
    {
     "data": {
      "text/html": [
       "<div>\n",
       "<style scoped>\n",
       "    .dataframe tbody tr th:only-of-type {\n",
       "        vertical-align: middle;\n",
       "    }\n",
       "\n",
       "    .dataframe tbody tr th {\n",
       "        vertical-align: top;\n",
       "    }\n",
       "\n",
       "    .dataframe thead th {\n",
       "        text-align: right;\n",
       "    }\n",
       "</style>\n",
       "<table border=\"1\" class=\"dataframe\">\n",
       "  <thead>\n",
       "    <tr style=\"text-align: right;\">\n",
       "      <th></th>\n",
       "      <th>game_type</th>\n",
       "      <th>tm_mlbam</th>\n",
       "      <th>tm_name</th>\n",
       "      <th>lg_mlbam</th>\n",
       "      <th>lg_name</th>\n",
       "      <th>PA</th>\n",
       "      <th>TB</th>\n",
       "      <th>LOB</th>\n",
       "      <th>BIP</th>\n",
       "      <th>BABIP</th>\n",
       "      <th>...</th>\n",
       "      <th>Whiffs</th>\n",
       "      <th>PO</th>\n",
       "      <th>LO</th>\n",
       "      <th>GO</th>\n",
       "      <th>FH</th>\n",
       "      <th>PH</th>\n",
       "      <th>LH</th>\n",
       "      <th>GH</th>\n",
       "      <th>sB</th>\n",
       "      <th>sF</th>\n",
       "    </tr>\n",
       "  </thead>\n",
       "  <tbody>\n",
       "    <tr>\n",
       "      <th>0</th>\n",
       "      <td>R</td>\n",
       "      <td>145</td>\n",
       "      <td>Chicago White Sox</td>\n",
       "      <td>103</td>\n",
       "      <td>American League</td>\n",
       "      <td>4827</td>\n",
       "      <td>2241</td>\n",
       "      <td>1723</td>\n",
       "      <td>3420</td>\n",
       "      <td>.324</td>\n",
       "      <td>...</td>\n",
       "      <td>2364</td>\n",
       "      <td>207</td>\n",
       "      <td>308</td>\n",
       "      <td>1154</td>\n",
       "      <td>225</td>\n",
       "      <td>4</td>\n",
       "      <td>609</td>\n",
       "      <td>424</td>\n",
       "      <td>0</td>\n",
       "      <td>45</td>\n",
       "    </tr>\n",
       "    <tr>\n",
       "      <th>1</th>\n",
       "      <td>P</td>\n",
       "      <td>145</td>\n",
       "      <td>Chicago White Sox</td>\n",
       "      <td>103</td>\n",
       "      <td>American League</td>\n",
       "      <td>32</td>\n",
       "      <td>13</td>\n",
       "      <td>20</td>\n",
       "      <td>24</td>\n",
       "      <td>.348</td>\n",
       "      <td>...</td>\n",
       "      <td>14</td>\n",
       "      <td>0</td>\n",
       "      <td>1</td>\n",
       "      <td>11</td>\n",
       "      <td>1</td>\n",
       "      <td>0</td>\n",
       "      <td>4</td>\n",
       "      <td>4</td>\n",
       "      <td>0</td>\n",
       "      <td>0</td>\n",
       "    </tr>\n",
       "  </tbody>\n",
       "</table>\n",
       "<p>2 rows × 35 columns</p>\n",
       "</div>"
      ],
      "text/plain": [
       "  game_type  tm_mlbam            tm_name  lg_mlbam          lg_name    PA  \\\n",
       "0         R       145  Chicago White Sox       103  American League  4827   \n",
       "1         P       145  Chicago White Sox       103  American League    32   \n",
       "\n",
       "     TB   LOB   BIP BABIP  ...  Whiffs   PO   LO    GO   FH PH   LH   GH sB  \\\n",
       "0  2241  1723  3420  .324  ...    2364  207  308  1154  225  4  609  424  0   \n",
       "1    13    20    24  .348  ...      14    0    1    11    1  0    4    4  0   \n",
       "\n",
       "   sF  \n",
       "0  45  \n",
       "1   0  \n",
       "\n",
       "[2 rows x 35 columns]"
      ]
     },
     "execution_count": 7,
     "metadata": {},
     "output_type": "execute_result"
    }
   ],
   "source": [
    "p.stats.hitting.advanced.career"
   ]
  },
  {
   "cell_type": "code",
   "execution_count": 2,
   "metadata": {},
   "outputs": [],
   "source": [
    "f = mlb.franchise(145)"
   ]
  },
  {
   "cell_type": "code",
   "execution_count": 3,
   "metadata": {},
   "outputs": [],
   "source": [
    "t = mlb.team(145,2021)"
   ]
  },
  {
   "cell_type": "code",
   "execution_count": 17,
   "metadata": {},
   "outputs": [],
   "source": [
    "person_data = requests.get(\"https://statsapi.mlb.com/api/v1/people/547989\").json()['people'][0]\n",
    "abreu = mlb.person(person_data)"
   ]
  },
  {
   "cell_type": "code",
   "execution_count": 1,
   "metadata": {},
   "outputs": [
    {
     "name": "stdout",
     "output_type": "stream",
     "text": [
      "<class '__main__.person'>\n",
      "joe\n",
      "25\n",
      "\n",
      "<class '__main__.student'>\n",
      "joe\n",
      "25\n"
     ]
    }
   ],
   "source": [
    "\n",
    "class person:\n",
    "    def __init__(self,name:str,**kwargs):\n",
    "        self.__dict__.update({'name':name})\n",
    "        self.__dict__.update(kwargs)\n",
    "\n",
    "        \n",
    "    def __getitem__(self,_attr):\n",
    "        return getattr(self,_attr)\n",
    "    \n",
    "    def __setattr__(self,_attr,_val):\n",
    "        pass\n",
    "        \n",
    "    # def __init_subclass__(cls):\n",
    "    #     pass\n",
    "        \n",
    "class student(person):\n",
    "    def __init__(self,name:str,**kwargs):\n",
    "        _kwargs = locals()\n",
    "        _kwargs.pop('self')\n",
    "        super().__init__(name,**kwargs)\n",
    "    \n",
    "    # def __setattr__(self,_attr,_val):\n",
    "    #     setattr(_attr,_val)\n",
    "        \n",
    "p = person(name='joe',age=25)\n",
    "s = student(name='joe',age=25)\n",
    "print(type(p))\n",
    "print(p.name)\n",
    "print(p.age)\n",
    "print('')\n",
    "print(type(s))\n",
    "print(s.name)\n",
    "print(s.age)\n",
    "\n"
   ]
  },
  {
   "cell_type": "code",
   "execution_count": 26,
   "metadata": {},
   "outputs": [
    {
     "data": {
      "text/plain": [
       "['name',\n",
       " 'age',\n",
       " '__module__',\n",
       " '__init__',\n",
       " '__getitem__',\n",
       " '__setattr__',\n",
       " '__dict__',\n",
       " '__weakref__',\n",
       " '__doc__',\n",
       " '__new__',\n",
       " '__repr__',\n",
       " '__hash__',\n",
       " '__str__',\n",
       " '__getattribute__',\n",
       " '__delattr__',\n",
       " '__lt__',\n",
       " '__le__',\n",
       " '__eq__',\n",
       " '__ne__',\n",
       " '__gt__',\n",
       " '__ge__',\n",
       " '__reduce_ex__',\n",
       " '__reduce__',\n",
       " '__subclasshook__',\n",
       " '__init_subclass__',\n",
       " '__format__',\n",
       " '__sizeof__',\n",
       " '__dir__',\n",
       " '__class__']"
      ]
     },
     "execution_count": 26,
     "metadata": {},
     "output_type": "execute_result"
    }
   ],
   "source": []
  },
  {
   "cell_type": "code",
   "execution_count": 18,
   "metadata": {},
   "outputs": [
    {
     "ename": "AttributeError",
     "evalue": "'student' object has no attribute 'name'",
     "output_type": "error",
     "traceback": [
      "\u001b[0;31m---------------------------------------------------------------------------\u001b[0m",
      "\u001b[0;31mAttributeError\u001b[0m                            Traceback (most recent call last)",
      "\u001b[0;32m/var/folders/zr/zg5glfgx0nnglw9432y0hl5w0000gn/T/ipykernel_9248/1888443627.py\u001b[0m in \u001b[0;36m<module>\u001b[0;34m\u001b[0m\n\u001b[0;32m----> 1\u001b[0;31m \u001b[0mp\u001b[0m\u001b[0;34m.\u001b[0m\u001b[0mname\u001b[0m\u001b[0;34m\u001b[0m\u001b[0;34m\u001b[0m\u001b[0m\n\u001b[0m",
      "\u001b[0;31mAttributeError\u001b[0m: 'student' object has no attribute 'name'"
     ]
    }
   ],
   "source": [
    "p.name"
   ]
  },
  {
   "cell_type": "code",
   "execution_count": 42,
   "metadata": {},
   "outputs": [
    {
     "data": {
      "text/plain": [
       "'joe'"
      ]
     },
     "execution_count": 42,
     "metadata": {},
     "output_type": "execute_result"
    }
   ],
   "source": [
    "p.name = 'joey'\n",
    "p['name']"
   ]
  },
  {
   "cell_type": "code",
   "execution_count": 37,
   "metadata": {},
   "outputs": [
    {
     "ename": "AttributeError",
     "evalue": "type object 'dict' has no attribute '__get__'",
     "output_type": "error",
     "traceback": [
      "\u001b[0;31m---------------------------------------------------------------------------\u001b[0m",
      "\u001b[0;31mAttributeError\u001b[0m                            Traceback (most recent call last)",
      "\u001b[0;32m/var/folders/zr/zg5glfgx0nnglw9432y0hl5w0000gn/T/ipykernel_8018/558455806.py\u001b[0m in \u001b[0;36m<module>\u001b[0;34m\u001b[0m\n\u001b[0;32m----> 1\u001b[0;31m \u001b[0mdict\u001b[0m\u001b[0;34m.\u001b[0m\u001b[0m__get__\u001b[0m\u001b[0;34m(\u001b[0m\u001b[0;34m)\u001b[0m\u001b[0;34m\u001b[0m\u001b[0;34m\u001b[0m\u001b[0m\n\u001b[0m",
      "\u001b[0;31mAttributeError\u001b[0m: type object 'dict' has no attribute '__get__'"
     ]
    }
   ],
   "source": []
  },
  {
   "cell_type": "code",
   "execution_count": null,
   "metadata": {},
   "outputs": [],
   "source": []
  },
  {
   "cell_type": "code",
   "execution_count": 6,
   "metadata": {},
   "outputs": [],
   "source": [
    "s = student(name='joe')"
   ]
  },
  {
   "cell_type": "code",
   "execution_count": 8,
   "metadata": {},
   "outputs": [],
   "source": [
    "s.weight = 140"
   ]
  },
  {
   "cell_type": "code",
   "execution_count": 9,
   "metadata": {},
   "outputs": [
    {
     "data": {
      "text/plain": [
       "140"
      ]
     },
     "execution_count": 9,
     "metadata": {},
     "output_type": "execute_result"
    }
   ],
   "source": [
    "s.weight"
   ]
  },
  {
   "cell_type": "code",
   "execution_count": 21,
   "metadata": {},
   "outputs": [
    {
     "data": {
      "text/plain": [
       "True"
      ]
     },
     "execution_count": 21,
     "metadata": {},
     "output_type": "execute_result"
    }
   ],
   "source": []
  },
  {
   "cell_type": "code",
   "execution_count": null,
   "metadata": {},
   "outputs": [],
   "source": []
  },
  {
   "cell_type": "code",
   "execution_count": null,
   "metadata": {},
   "outputs": [],
   "source": []
  },
  {
   "cell_type": "code",
   "execution_count": 13,
   "metadata": {},
   "outputs": [
    {
     "data": {
      "text/plain": [
       "__main__.student"
      ]
     },
     "execution_count": 13,
     "metadata": {},
     "output_type": "execute_result"
    }
   ],
   "source": []
  },
  {
   "cell_type": "code",
   "execution_count": null,
   "metadata": {},
   "outputs": [],
   "source": []
  },
  {
   "cell_type": "code",
   "execution_count": null,
   "metadata": {},
   "outputs": [],
   "source": [
    "start = time.time()\n",
    "tm = mlb.team_data(145,2021,_logtime=False)\n",
    "pd.DataFrame().iloc"
   ]
  },
  {
   "cell_type": "code",
   "execution_count": 3,
   "metadata": {},
   "outputs": [],
   "source": [
    "abreu = mlb.player(547989)"
   ]
  },
  {
   "cell_type": "code",
   "execution_count": 5,
   "metadata": {},
   "outputs": [
    {
     "name": "stdout",
     "output_type": "stream",
     "text": [
      "joe\n"
     ]
    }
   ],
   "source": [
    "class person:\n",
    "    def __init__(self,name:str):\n",
    "        self.__name = name\n",
    "        \n",
    "\n",
    "    @property    \n",
    "    def name(self):\n",
    "        return self.__name\n",
    "\n",
    "p = person('joe')\n",
    "print(p.name)"
   ]
  },
  {
   "cell_type": "code",
   "execution_count": 6,
   "metadata": {},
   "outputs": [
    {
     "ename": "AttributeError",
     "evalue": "can't set attribute 'name'",
     "output_type": "error",
     "traceback": [
      "\u001b[0;31m---------------------------------------------------------------------------\u001b[0m",
      "\u001b[0;31mAttributeError\u001b[0m                            Traceback (most recent call last)",
      "\u001b[0;32m/var/folders/zr/zg5glfgx0nnglw9432y0hl5w0000gn/T/ipykernel_4593/442306457.py\u001b[0m in \u001b[0;36m<module>\u001b[0;34m\u001b[0m\n\u001b[0;32m----> 1\u001b[0;31m \u001b[0mp\u001b[0m\u001b[0;34m.\u001b[0m\u001b[0mname\u001b[0m \u001b[0;34m=\u001b[0m \u001b[0;34m'joey'\u001b[0m\u001b[0;34m\u001b[0m\u001b[0;34m\u001b[0m\u001b[0m\n\u001b[0m",
      "\u001b[0;31mAttributeError\u001b[0m: can't set attribute 'name'"
     ]
    }
   ],
   "source": [
    "p.name = 'joey'"
   ]
  },
  {
   "cell_type": "code",
   "execution_count": 20,
   "metadata": {},
   "outputs": [
    {
     "data": {
      "text/plain": [
       "'joe'"
      ]
     },
     "execution_count": 20,
     "metadata": {},
     "output_type": "execute_result"
    }
   ],
   "source": [
    "p.name"
   ]
  },
  {
   "cell_type": "code",
   "execution_count": 28,
   "metadata": {},
   "outputs": [],
   "source": [
    "series = pd.Series(data={'start':'2021-09-1','end':'2022-3-04'})\n",
    "\n",
    "\n",
    "\n",
    "series['start'] = pd.to_datetime(series['start'],format=r\"%Y-%m-%d\")\n",
    "\n",
    "# series"
   ]
  },
  {
   "cell_type": "code",
   "execution_count": 29,
   "metadata": {},
   "outputs": [
    {
     "data": {
      "text/plain": [
       "start    2021-09-01 00:00:00\n",
       "end                2022-3-04\n",
       "dtype: object"
      ]
     },
     "execution_count": 29,
     "metadata": {},
     "output_type": "execute_result"
    }
   ],
   "source": [
    "series"
   ]
  },
  {
   "cell_type": "code",
   "execution_count": null,
   "metadata": {},
   "outputs": [],
   "source": []
  }
 ],
 "metadata": {
  "interpreter": {
   "hash": "290a4e1496360bee5be2c9273f15849004c3990b55f9c717ea6d4be35dd535e9"
  },
  "kernelspec": {
   "display_name": "Python 3 (ipykernel)",
   "language": "python",
   "name": "python3"
  },
  "language_info": {
   "codemirror_mode": {
    "name": "ipython",
    "version": 3
   },
   "file_extension": ".py",
   "mimetype": "text/x-python",
   "name": "python",
   "nbconvert_exporter": "python",
   "pygments_lexer": "ipython3",
   "version": "3.10.0"
  }
 },
 "nbformat": 4,
 "nbformat_minor": 2
}
